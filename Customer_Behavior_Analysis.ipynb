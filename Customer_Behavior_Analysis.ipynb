{
 "cells": [
  {
   "cell_type": "code",
   "execution_count": 26,
   "metadata": {},
   "outputs": [],
   "source": [
    "#import pandas \n",
    "import pandas as pd\n",
    "import numpy as np\n"
   ]
  },
  {
   "cell_type": "code",
   "execution_count": 5,
   "metadata": {},
   "outputs": [
    {
     "name": "stderr",
     "output_type": "stream",
     "text": [
      "<>:2: SyntaxWarning: invalid escape sequence '\\D'\n",
      "<>:2: SyntaxWarning: invalid escape sequence '\\D'\n",
      "C:\\Users\\Mukesh\\AppData\\Local\\Temp\\ipykernel_20740\\551993038.py:2: SyntaxWarning: invalid escape sequence '\\D'\n",
      "  data = pd.read_csv(\"D:\\DS_ML\\Customer_Behavior_Analysis\\customers.csv\")\n"
     ]
    },
    {
     "data": {
      "text/html": [
       "<div>\n",
       "<style scoped>\n",
       "    .dataframe tbody tr th:only-of-type {\n",
       "        vertical-align: middle;\n",
       "    }\n",
       "\n",
       "    .dataframe tbody tr th {\n",
       "        vertical-align: top;\n",
       "    }\n",
       "\n",
       "    .dataframe thead th {\n",
       "        text-align: right;\n",
       "    }\n",
       "</style>\n",
       "<table border=\"1\" class=\"dataframe\">\n",
       "  <thead>\n",
       "    <tr style=\"text-align: right;\">\n",
       "      <th></th>\n",
       "      <th>CustomerID</th>\n",
       "      <th>CustomerName</th>\n",
       "      <th>Email</th>\n",
       "      <th>Gender</th>\n",
       "      <th>Age</th>\n",
       "      <th>GeographyID</th>\n",
       "    </tr>\n",
       "  </thead>\n",
       "  <tbody>\n",
       "    <tr>\n",
       "      <th>0</th>\n",
       "      <td>1</td>\n",
       "      <td>Emma Anderson</td>\n",
       "      <td>emma.anderson@example.com</td>\n",
       "      <td>Male</td>\n",
       "      <td>50</td>\n",
       "      <td>2</td>\n",
       "    </tr>\n",
       "    <tr>\n",
       "      <th>1</th>\n",
       "      <td>2</td>\n",
       "      <td>Sarah Brown</td>\n",
       "      <td>sarah.brown@example.com</td>\n",
       "      <td>Female</td>\n",
       "      <td>37</td>\n",
       "      <td>4</td>\n",
       "    </tr>\n",
       "    <tr>\n",
       "      <th>2</th>\n",
       "      <td>3</td>\n",
       "      <td>Robert Hernandez</td>\n",
       "      <td>robert.hernandez@example.com</td>\n",
       "      <td>Female</td>\n",
       "      <td>26</td>\n",
       "      <td>6</td>\n",
       "    </tr>\n",
       "    <tr>\n",
       "      <th>3</th>\n",
       "      <td>4</td>\n",
       "      <td>David Garcia</td>\n",
       "      <td>david.garcia@example.com</td>\n",
       "      <td>Male</td>\n",
       "      <td>25</td>\n",
       "      <td>8</td>\n",
       "    </tr>\n",
       "    <tr>\n",
       "      <th>4</th>\n",
       "      <td>5</td>\n",
       "      <td>Emma Miller</td>\n",
       "      <td>emma.miller@example.com</td>\n",
       "      <td>Female</td>\n",
       "      <td>41</td>\n",
       "      <td>4</td>\n",
       "    </tr>\n",
       "  </tbody>\n",
       "</table>\n",
       "</div>"
      ],
      "text/plain": [
       "   CustomerID      CustomerName                         Email  Gender  Age  \\\n",
       "0           1     Emma Anderson     emma.anderson@example.com    Male   50   \n",
       "1           2       Sarah Brown       sarah.brown@example.com  Female   37   \n",
       "2           3  Robert Hernandez  robert.hernandez@example.com  Female   26   \n",
       "3           4      David Garcia      david.garcia@example.com    Male   25   \n",
       "4           5       Emma Miller       emma.miller@example.com  Female   41   \n",
       "\n",
       "   GeographyID  \n",
       "0            2  \n",
       "1            4  \n",
       "2            6  \n",
       "3            8  \n",
       "4            4  "
      ]
     },
     "execution_count": 5,
     "metadata": {},
     "output_type": "execute_result"
    }
   ],
   "source": [
    "#Read and view data into pandas dataframe\n",
    "data = pd.read_csv(\"D:\\DS_ML\\Customer_Behavior_Analysis\\customers.csv\")\n",
    "data.head()\n",
    "\n"
   ]
  },
  {
   "cell_type": "code",
   "execution_count": 6,
   "metadata": {},
   "outputs": [
    {
     "data": {
      "text/plain": [
       "CustomerID      0\n",
       "CustomerName    0\n",
       "Email           0\n",
       "Gender          0\n",
       "Age             0\n",
       "GeographyID     0\n",
       "dtype: int64"
      ]
     },
     "execution_count": 6,
     "metadata": {},
     "output_type": "execute_result"
    }
   ],
   "source": [
    "#missing value\n",
    "data.isnull().sum()"
   ]
  },
  {
   "cell_type": "code",
   "execution_count": 7,
   "metadata": {},
   "outputs": [],
   "source": [
    "#drop the missing value\n",
    "df = data.dropna().copy()\n"
   ]
  },
  {
   "cell_type": "code",
   "execution_count": 9,
   "metadata": {},
   "outputs": [
    {
     "data": {
      "text/plain": [
       "np.int64(0)"
      ]
     },
     "execution_count": 9,
     "metadata": {},
     "output_type": "execute_result"
    }
   ],
   "source": [
    "#check for dulpicdate\n",
    "df.duplicated().sum()"
   ]
  },
  {
   "cell_type": "code",
   "execution_count": 10,
   "metadata": {},
   "outputs": [
    {
     "data": {
      "text/plain": [
       "CustomerID       int64\n",
       "CustomerName    object\n",
       "Email           object\n",
       "Gender          object\n",
       "Age              int64\n",
       "GeographyID      int64\n",
       "dtype: object"
      ]
     },
     "execution_count": 10,
     "metadata": {},
     "output_type": "execute_result"
    }
   ],
   "source": [
    "#type cast\n",
    "df.dtypes"
   ]
  },
  {
   "cell_type": "code",
   "execution_count": 4,
   "metadata": {},
   "outputs": [
    {
     "name": "stdout",
     "output_type": "stream",
     "text": [
      "True\n"
     ]
    }
   ],
   "source": [
    "# Database set\n",
    "\n",
    "from mysql.connector import connect as ct # type: ignore\n",
    "\n",
    "# Create connection\n",
    "connection = ct(\n",
    "    host='localhost',\n",
    "    port='3306',# Port should be an integer, not a string\n",
    "    user='root',\n",
    "    password='Shamsingh@1234',\n",
    "    database='customer_analytics'  # Use 'database' instead of 'db'\n",
    ")\n",
    "\n",
    "print(connection.is_connected())  # Corrected method name\n",
    "\n",
    "# Close the connection when you're done\n",
    "connection.close()\n"
   ]
  },
  {
   "cell_type": "code",
   "execution_count": 9,
   "metadata": {},
   "outputs": [
    {
     "name": "stdout",
     "output_type": "stream",
     "text": [
      "Customers DataFrame:\n",
      "   CustomerID      CustomerName                         Email  Gender  Age  \\\n",
      "0           1     Emma Anderson     emma.anderson@example.com    Male   50   \n",
      "1           2       Sarah Brown       sarah.brown@example.com  Female   37   \n",
      "2           3  Robert Hernandez  robert.hernandez@example.com  Female   26   \n",
      "3           4      David Garcia      david.garcia@example.com    Male   25   \n",
      "4           5       Emma Miller       emma.miller@example.com  Female   41   \n",
      "\n",
      "   GeographyID  \n",
      "0            2  \n",
      "1            4  \n",
      "2            6  \n",
      "3            8  \n",
      "4            4  \n",
      "\n",
      "Customer Journey DataFrame:\n",
      "   JourneyID  CustomerID  ProductID   VisitDate        Stage    Action  \\\n",
      "0          1          64         18  2024-06-10     Checkout  Drop-off   \n",
      "1          2          94         11  2025-07-09     Checkout  Drop-off   \n",
      "2          3          34          8  2024-06-14  ProductPage      View   \n",
      "3          4          33         18  2025-05-28     Checkout  Drop-off   \n",
      "4          5          91         10  2023-02-11     Homepage     Click   \n",
      "\n",
      "   Duration  \n",
      "0       NaN  \n",
      "1       NaN  \n",
      "2     235.0  \n",
      "3       NaN  \n",
      "4     156.0  \n",
      "\n",
      "Customer engagement DataFrame:\n",
      "   EngagementID  ContentID ContentType  Likes EngagementDate  CampaignID  \\\n",
      "0             1         39        Blog    190     2023-08-30           1   \n",
      "1             2         48        Blog    114     2023-03-28          18   \n",
      "2             3         16       video     32     2023-12-08           7   \n",
      "3             4         43       Video     17     2025-01-21          19   \n",
      "4             5         16  newsletter    306     2024-02-21           6   \n",
      "\n",
      "   ProductID ViewsClicksCombined  \n",
      "0          9            1883-671  \n",
      "1         20            5280-532  \n",
      "2         14            1905-204  \n",
      "3         20            2766-257  \n",
      "4         15           5116-1524  \n",
      "\n",
      "Customer Reviews DataFrame:\n",
      "   ReviewID  CustomerID  ProductID  ReviewDate  Rating  \\\n",
      "0         1          77         18  2023-12-23       3   \n",
      "1         2          80         19  2024-12-25       5   \n",
      "2         3          50         13  2025-01-26       4   \n",
      "3         4          78         15  2025-04-21       3   \n",
      "4         5          64          2  2023-07-16       3   \n",
      "\n",
      "                                 ReviewText  \n",
      "0   Average  experience,  nothing  special.  \n",
      "1            The  quality  is    top-notch.  \n",
      "2   Five  stars  for  the  quick  delivery.  \n",
      "3  Good  quality,  but  could  be  cheaper.  \n",
      "4   Average  experience,  nothing  special.  \n"
     ]
    }
   ],
   "source": [
    "import pandas as pd\n",
    "\n",
    "# Load datasets into DataFrames\n",
    "try:\n",
    "    customers = pd.read_csv('Customers.csv')\n",
    "    journey = pd.read_csv('Customer_journey.csv')\n",
    "    engagement = pd.read_csv('engagement_data.csv')\n",
    "    reviews = pd.read_csv('Customer_reviews.csv')\n",
    "    \n",
    "\n",
    "    # Preview data structure\n",
    "    print(\"Customers DataFrame:\")\n",
    "    print(customers.head())\n",
    "    \n",
    "    print(\"\\nCustomer Journey DataFrame:\")\n",
    "    print(journey.head())\n",
    "\n",
    "    print(\"\\nCustomer engagement DataFrame:\")\n",
    "    print(engagement.head())\n",
    "    \n",
    "    print(\"\\nCustomer Reviews DataFrame:\")\n",
    "    print(reviews.head())\n",
    "\n",
    "except FileNotFoundError as e:\n",
    "    print(f\"Error: {e}. Please check if the file exists in the specified path.\")\n",
    "except pd.errors.EmptyDataError:\n",
    "    print(\"Error: One of the files is empty.\")\n",
    "except pd.errors.ParserError:\n",
    "    print(\"Error: There was a problem parsing one of the files.\")\n"
   ]
  },
  {
   "cell_type": "code",
   "execution_count": 2,
   "metadata": {},
   "outputs": [
    {
     "name": "stdout",
     "output_type": "stream",
     "text": [
      "    ProductID                                        ReviewText\n",
      "16          4                           Not  worth  the  money.\n",
      "19          6  I  had  a  bad  experience  with  this  product.\n",
      "44         16                           Not  worth  the  money.\n",
      "56         10             Disappointed  with  the  performance.\n",
      "64          3                           Not  worth  the  money.\n"
     ]
    }
   ],
   "source": [
    "from textblob import TextBlob\n",
    "\n",
    "# Analyze sentiment of review text\n",
    "reviews['Sentiment'] = reviews['ReviewText'].apply(lambda x: TextBlob(x).sentiment.polarity)\n",
    "\n",
    "# Find negative reviews (sentiment < 0)\n",
    "negative_reviews = reviews[reviews['Sentiment'] < 0]\n",
    "print(negative_reviews[['ProductID', 'ReviewText']].head())\n"
   ]
  },
  {
   "cell_type": "code",
   "execution_count": 3,
   "metadata": {},
   "outputs": [
    {
     "data": {
      "image/png": "[encoded data removed]",
      "text/plain": [
       "<Figure size 640x480 with 1 Axes>"
      ]
     },
     "metadata": {},
     "output_type": "display_data"
    }
   ],
   "source": [
    "import matplotlib.pyplot as plt\n",
    "\n",
    "# Plot age distribution of customers who made purchases\n",
    "purchases = journey[journey['Action'] == 'Purchase']\n",
    "merged_data = pd.merge(purchases, customers, on='CustomerID')\n",
    "\n",
    "plt.hist(merged_data['Age'], bins=10)\n",
    "plt.xlabel('Age')\n",
    "plt.ylabel('Number of Purchases')\n",
    "plt.title('Age Distribution of Purchasers')\n",
    "plt.show()\n"
   ]
  }
 ],
 "metadata": {
  "kernelspec": {
   "display_name": "Customer_Behavior_Analysis",
   "language": "python",
   "name": "python3"
  },
  "language_info": {
   "codemirror_mode": {
    "name": "ipython",
    "version": 3
   },
   "file_extension": ".py",
   "mimetype": "text/x-python",
   "name": "python",
   "nbconvert_exporter": "python",
   "pygments_lexer": "ipython3",
   "version": "3.12.8"
  }
 },
 "nbformat": 4,
 "nbformat_minor": 2
}
